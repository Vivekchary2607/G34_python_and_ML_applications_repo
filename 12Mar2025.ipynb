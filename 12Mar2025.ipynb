{
 "cells": [
  {
   "cell_type": "code",
   "execution_count": 1,
   "metadata": {},
   "outputs": [
    {
     "data": {
      "text/plain": [
       "50"
      ]
     },
     "execution_count": 1,
     "metadata": {},
     "output_type": "execute_result"
    }
   ],
   "source": [
    "import calculator\n",
    "\n",
    "calculator.add(20,30)"
   ]
  },
  {
   "cell_type": "code",
   "execution_count": 3,
   "metadata": {},
   "outputs": [
    {
     "data": {
      "text/plain": [
       "-50"
      ]
     },
     "execution_count": 3,
     "metadata": {},
     "output_type": "execute_result"
    }
   ],
   "source": [
    "from calc.calc_1 import calculator\n",
    "\n",
    "calculator.difference(40,90)"
   ]
  },
  {
   "cell_type": "code",
   "execution_count": 4,
   "metadata": {},
   "outputs": [
    {
     "data": {
      "text/plain": [
       "234"
      ]
     },
     "execution_count": 4,
     "metadata": {},
     "output_type": "execute_result"
    }
   ],
   "source": [
    "from calc.calc_1.calculator import multiplication\n",
    "\n",
    "multiplication(3,78)"
   ]
  },
  {
   "cell_type": "code",
   "execution_count": 5,
   "metadata": {},
   "outputs": [
    {
     "data": {
      "text/plain": [
       "57.5"
      ]
     },
     "execution_count": 5,
     "metadata": {},
     "output_type": "execute_result"
    }
   ],
   "source": [
    "from calc.calc_1 import calculator as c\n",
    "\n",
    "c.division(345,6)"
   ]
  },
  {
   "cell_type": "code",
   "execution_count": null,
   "metadata": {},
   "outputs": [],
   "source": [
    "#Read mode, Write mode and append mode\n",
    "\n",
    "file = open(\"sample_data.txt\",\"rb+\")\n",
    "lst = file.readlines() # Returns list\n",
    "file.close()"
   ]
  },
  {
   "cell_type": "code",
   "execution_count": 7,
   "metadata": {},
   "outputs": [
    {
     "name": "stdout",
     "output_type": "stream",
     "text": [
      "['I am at line-1\\n', 'I am at line-2\\n', 'I am at line-3\\n', 'I am at line-4\\n', 'I am at line-5\\n', 'I am at line-6\\n', 'I am at line-7\\n', 'I am at line-8\\n', 'I am at line-9\\n', 'I am at line-10']\n"
     ]
    }
   ],
   "source": [
    "print(lst)"
   ]
  },
  {
   "cell_type": "code",
   "execution_count": 8,
   "metadata": {},
   "outputs": [],
   "source": [
    "file_to_write = open(\"new_file.txt\",\"w+\")\n",
    "file_to_write.write(\"The time now is 21:34 PM\\n\")\n",
    "file_to_write.write(\"I am from G34 Python and ML batch\\n\")\n",
    "file_to_write.write(\"I am learning file handling\")\n",
    "file_to_write.close()"
   ]
  },
  {
   "cell_type": "code",
   "execution_count": 9,
   "metadata": {},
   "outputs": [],
   "source": [
    "file_1 = open(\"D:\\\\content.txt\",\"w+\")\n",
    "file_1.write(\"Today's date is: 12 Mar 2025 and it is Wednesday.\")\n",
    "file_1.close()"
   ]
  },
  {
   "cell_type": "code",
   "execution_count": 10,
   "metadata": {},
   "outputs": [],
   "source": [
    "file_2 = open(\"new_file1.py\",\"w+\")\n",
    "file_2.write(\"print(\\\"Hello World\\\")\")\n",
    "file_2.close()"
   ]
  },
  {
   "cell_type": "code",
   "execution_count": null,
   "metadata": {},
   "outputs": [],
   "source": [
    "file_2 = open(\"new_file1.py\",\"wb+\")\n",
    "file_2.write(\"print(\\\"Hello World\\\")\")\n",
    "file_2.close()"
   ]
  },
  {
   "cell_type": "code",
   "execution_count": null,
   "metadata": {},
   "outputs": [],
   "source": [
    "file = open(\"new_file.txt\",\"r+\")\n",
    "lst = file.readlines()\n",
    "file.close()\n",
    "\n",
    "new_lst = []\n",
    "for line in lst:\n",
    "    if line==\"The time now is 21:34 PM\\n\":\n",
    "        line = \"The time now is 21:51 PM\\n\"\n",
    "    new_lst.append(line)\n",
    "\n",
    "file = open(\"new_file.txt\",\"w+\")\n",
    "for line in new_lst:\n",
    "    file.write(line)\n",
    "file.close()   "
   ]
  },
  {
   "cell_type": "code",
   "execution_count": 8,
   "metadata": {},
   "outputs": [
    {
     "name": "stdout",
     "output_type": "stream",
     "text": [
      "keviv\n"
     ]
    }
   ],
   "source": [
    "string=\"vivek\"\n",
    "res=string[::-1]\n",
    "print(res)"
   ]
  },
  {
   "cell_type": "code",
   "execution_count": 16,
   "metadata": {},
   "outputs": [
    {
     "name": "stdout",
     "output_type": "stream",
     "text": [
      "0\n"
     ]
    }
   ],
   "source": [
    "new_lst=[]\n",
    "diff=0\n",
    "diff1=0\n",
    "ls=[1,7,9,2,10]\n",
    "for i in ls:\n",
    "    for j in range(j+1,len(ls)):\n",
    "        diff=ls[i]-ls[j]\n",
    "        if(abs(diff)<diff1):\n",
    "            diff1=abs(diff)\n",
    "print(diff1)"
   ]
  },
  {
   "cell_type": "code",
   "execution_count": null,
   "metadata": {},
   "outputs": [],
   "source": []
  }
 ],
 "metadata": {
  "kernelspec": {
   "display_name": "Python 3",
   "language": "python",
   "name": "python3"
  },
  "language_info": {
   "codemirror_mode": {
    "name": "ipython",
    "version": 3
   },
   "file_extension": ".py",
   "mimetype": "text/x-python",
   "name": "python",
   "nbconvert_exporter": "python",
   "pygments_lexer": "ipython3",
   "version": "3.12.4"
  }
 },
 "nbformat": 4,
 "nbformat_minor": 2
}
