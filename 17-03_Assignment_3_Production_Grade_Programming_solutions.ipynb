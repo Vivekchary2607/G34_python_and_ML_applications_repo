{
 "cells": [
  {
   "cell_type": "markdown",
   "metadata": {
    "id": "77zLnpaNvNSp"
   },
   "source": [
    "## <u> Problem 1</u>\n",
    "\n",
    "### Create a class <code>Cylinder</code> which takes two attributes <code>radius</code> and <code>height</code>.\n",
    "\n",
    "### Create the following methods in this class:\n",
    "\n",
    "* ### method <code>volume()</code> which calculates the volume of the cyinder which is defined as $V  = \\pi r^2 h$\n",
    "\n",
    "* ### method <code>surface_area()</code> which calculates the area of the cyinder which is defined as $S  = 2\\pi r h$. Assume this is an open cylinder\n"
   ]
  },
  {
   "cell_type": "code",
   "execution_count": 1,
   "metadata": {
    "id": "-cWkCZ5OzX0G"
   },
   "outputs": [],
   "source": [
    "# Write your code below. Take pi as 3.14\n",
    "class Cylinder:\n",
    "    def __init__(self,radius,height):\n",
    "        self.radius=radius\n",
    "        self.height=height\n",
    "    def volume(self):\n",
    "        self.volume=3.14*(self.radius**2)*self.height\n",
    "        print(f\"Volume of the Cylinder:{self.volume}\")\n",
    "    def surface_area(self):\n",
    "        self.surface_area=2*3.14*self.radius*self.height\n",
    "        print(f\"Surface Area of the Cylinder:{self.surface_area}\")\n"
   ]
  },
  {
   "cell_type": "code",
   "execution_count": 4,
   "metadata": {
    "id": "tgS3mhN-18b_"
   },
   "outputs": [
    {
     "name": "stdout",
     "output_type": "stream",
     "text": [
      "Volume of the Cylinder:1808.64\n",
      "Surface Area of the Cylinder:452.16\n",
      "Volume of the Cylinder:471.0\n",
      "Surface Area of the Cylinder:188.4\n"
     ]
    }
   ],
   "source": [
    "# Check for sample inputs\n",
    "c=Cylinder(8,9)\n",
    "c.volume()\n",
    "c.surface_area()\n",
    "\n",
    "\n",
    "c1=Cylinder(5,6)\n",
    "c1.volume()\n",
    "c1.surface_area()\n"
   ]
  },
  {
   "cell_type": "markdown",
   "metadata": {
    "id": "KjPWYK0Rs8By"
   },
   "source": [
    "## <u>Problem 2</u>\n",
    "\n",
    "### You started your own money wallet where your customers can create their accounts and they can either deposit or withdraw money from this wallet.\n",
    "\n",
    "### Write a Python class <code>BankAccount</code> which takes the balance as an attribute. You can initialize the balance with 0 because any new account will have 0 rupees in their wallet. Next write two methods for your class :\n",
    "\n",
    "* #### <code>withdraw()</code> method which takes the amount to be withdrawn as an argument and returns the balance after the withdrawal\n",
    "\n",
    "* #### <code>deposit()</code> method which takes the amount to be deposited as an argument and returns the balance after the deposit.\n",
    "\n",
    "### Keep in mind that if the balance to be withdrawn exceeds the current balance, it should display a message that \"Not enough balance in your account\"\n"
   ]
  },
  {
   "cell_type": "code",
   "execution_count": 16,
   "metadata": {
    "id": "RxVZTrenzfHC"
   },
   "outputs": [],
   "source": [
    "# Write your BankAccount class below\n",
    "\n",
    "class InsufficientFundsError(Exception):\n",
    "    def __init__(self, message):\n",
    "        super().__init__(message)\n",
    "class BankAccount:\n",
    "    def __init__(self,name):\n",
    "        self.balance = 0\n",
    "        self.name=name\n",
    "    def deposit(self,amount):\n",
    "        try:\n",
    "            if(amount<=0):\n",
    "                raise ValueError\n",
    "            else:\n",
    "                self.balance=self.balance+amount\n",
    "                print(f\"{self.name} Deposited: {amount}. Current Balance: {self.balance}\")\n",
    "        except ValueError:\n",
    "            print(\"valueError\")\n",
    "    def withdraw(self,amount):  \n",
    "        try:\n",
    "            if amount > self.balance:\n",
    "                raise InsufficientFundsError(\"\")\n",
    "            else:\n",
    "                self.balance-=amount\n",
    "                print(f\"{self.name} withdrawal Successfully remaining Balance {self.balance}\")\n",
    "        except InsufficientFundsError:\n",
    "            print(\"Insufficient funds to complete the withdrawal\")"
   ]
  },
  {
   "cell_type": "code",
   "execution_count": 18,
   "metadata": {
    "id": "N1Yhpkiws8B3"
   },
   "outputs": [],
   "source": [
    "# Create two instances of this class for two customers\n",
    "\n",
    "ram=BankAccount(\"ram\")\n",
    "shiva=BankAccount(\"Shiva\")"
   ]
  },
  {
   "cell_type": "markdown",
   "metadata": {
    "id": "mSTxPcO3fWeX"
   },
   "source": [
    "### Next add some amount and withdraw some another amount for both the customers."
   ]
  },
  {
   "cell_type": "code",
   "execution_count": null,
   "metadata": {
    "id": "KpMdlB5Fs8B8"
   },
   "outputs": [
    {
     "name": "stdout",
     "output_type": "stream",
     "text": [
      "ram Deposited: 1000. Current Balance: 1000\n",
      "ram withdrawal Successfully remaining Balance 500\n",
      "Shiva Deposited: 3200. Current Balance: 3200\n",
      "Shiva withdrawal Successfully remaining Balance 1700\n"
     ]
    }
   ],
   "source": [
    "# Deposit some amount and withdrawing some amount from the two accounts and check if your method works fine\n",
    "ram.deposit(1000)\n",
    "ram.withdraw(500)\n",
    "\n",
    "shiva.deposit(3200)\n",
    "shiva.withdraw(1500)"
   ]
  },
  {
   "cell_type": "markdown",
   "metadata": {
    "id": "5qd8g8UUs8CM"
   },
   "source": [
    "## <u>Problem 3 </u>\n",
    "\n",
    "### Create a class <code>Time </code> which takes two inputs hours and minutes to instantiate.\n",
    "*  #### Construct a method <code>DisplayTime()</code> which displays the time in AM/PM formats. For example if the input is 14 hours and 45 mins, then this method will print \"The time is 2:45 PM\". If the inputted hours exceeds 23 then print the message \"The input hours should be less than 24\" and if the inputted minutes exceeds 59 then print the message \"The input minutes should be less than 60.\" Also if the input is 12 hours 30 minutes, then the displayed time would be 12:30 PM\n",
    "* #### Construct a method <code>DisplayRatio()</code> which should display the ratio of minutes to hours. For example, (8 hours and  16 mins) should display 2. Use <code>try</code>, <code>except</code> block to account for ZeroDivisionError."
   ]
  },
  {
   "cell_type": "code",
   "execution_count": 3,
   "metadata": {
    "id": "FBJy9Sq_s8CN"
   },
   "outputs": [],
   "source": [
    "class Time:\n",
    "    def __init__(self,hours,mins):\n",
    "        self.hours=hours\n",
    "        self.mins=mins\n",
    "    def DisplayTime(self):\n",
    "        if self.hours>=12 and self.hours<=23:\n",
    "            if self.mins<=59 and self.hours!=12:\n",
    "                print(f\"The Time is {self.hours-12}:{self.mins} PM\")\n",
    "            elif self.hours==12:\n",
    "                print(f\"The Time is {self.hours}:{self.mins} PM\")\n",
    "            else:\n",
    "                print(\"The input minutes should be less than 60.\")\n",
    "        elif self.hours<12:\n",
    "            if self.mins<=59:\n",
    "                print(f\"The Time is {self.hours}:{self.mins} AM\")\n",
    "            else:\n",
    "                print(\"The input minutes should be less than 60.\")\n",
    "        else:\n",
    "            print(\"The input hours should be less than 24.\")\n",
    "\n",
    "def DisplayRatio(hours, minutes):\n",
    "    try:\n",
    "        # Calculate the ratio of minutes to hours\n",
    "        ratio = minutes / hours\n",
    "        print(f\"The ratio of minutes to hours is: {ratio}\")\n",
    "    except ZeroDivisionError:\n",
    "        print(\"Error: Division by zero. Hours cannot be zero.\")\n"
   ]
  },
  {
   "cell_type": "code",
   "execution_count": 4,
   "metadata": {
    "id": "zywXa51d6Eev"
   },
   "outputs": [
    {
     "name": "stdout",
     "output_type": "stream",
     "text": [
      "The Time is 11:45 PM\n",
      "The input hours should be less than 24.\n",
      "The Time is 12:34 PM\n",
      "The input minutes should be less than 60.\n",
      "The Time is 7:20 PM\n",
      "The Time is 2:15 AM\n",
      "The Time is 0:10 AM\n",
      "The ratio of minutes to hours is: 2.0\n",
      "Error: Division by zero. Hours cannot be zero.\n"
     ]
    }
   ],
   "source": [
    "# Check for few sample inputs of hours and mins\n",
    "hour_min_list = [(23,45), (34,50), (12,34), (14,67),(19,20), (2,15), (0, 10)]\n",
    "\n",
    "# Using a for loop display the corresponding 12 hour time format for the above hour_min_list\n",
    "for i in hour_min_list:\n",
    "    hours,mins=i\n",
    "    t=Time(hours,mins)\n",
    "    t.DisplayTime()\n",
    "\n",
    "# Also display the corresponding ratios for the above list\n",
    "\n",
    "DisplayRatio(8, 16)  \n",
    "DisplayRatio(0, 16)  \n",
    "\n"
   ]
  },
  {
   "cell_type": "markdown",
   "metadata": {
    "id": "mgcu1_SAjAqF"
   },
   "source": [
    "## <u>Problem 4: Employee Management System with Exception Handling</u>\n",
    "\n",
    "**Scenario:**\n",
    "\n",
    "A company manages employees, where each employee has a name, an employee ID, and a salary. Employees can receive promotions, which increase their salary. However, if an invalid salary increment is given (such as a negative value), the system should raise an exception.\n",
    "\n",
    "**Task:**\n",
    "Create a Employee class with the following attributes and methods:\n",
    "\n",
    "    Attributes:\n",
    "    - name (str), employee_id (str), and salary (float).\n",
    "    Methods:\n",
    "    - promote(increment): Increases the salary by the given amount. If the increment is negative, raise an InvalidSalaryIncrementException.\n",
    "    - display_info(): Prints employee details.\n",
    "\n",
    "Define a custom exception *InvalidSalaryIncrementException* that is raised when an invalid salary increment is provided.\n",
    "\n",
    "**Steps to Solve:**\n",
    "- Create an `Employee` class with the required attributes.\n",
    "- Define a custom exception `InvalidSalaryIncrementException`.\n",
    "- Implement the `promote(increment)` method that validates the increment before applying it.\n",
    "- Implement `display_info()` to show employee details.\n",
    "- Write a test case where a negative salary increment is attempted, and handle the exception gracefully.\n"
   ]
  },
  {
   "cell_type": "markdown",
   "metadata": {},
   "source": [
    "### **Test Cases for Employee Management System with Exception Handling**  \n",
    "\n",
    "#### **Test Case 1: Valid Salary Increment**  \n",
    "**Input:**  \n",
    "```python\n",
    "emp = Employee(\"Alice Johnson\", \"EMP1001\", 50000)\n",
    "emp.promote(5000)\n",
    "emp.display_info()\n",
    "```\n",
    "**Expected Output:**  \n",
    "```\n",
    "Alice Johnson has been promoted! New salary: $55000.00\n",
    "Employee ID: EMP1001 | Name: Alice Johnson | Salary: $55000.00\n",
    "```\n",
    "\n",
    "---\n",
    "\n",
    "#### **Test Case 2: Invalid Salary Increment (Negative Value)**  \n",
    "**Input:**  \n",
    "```python\n",
    "emp = Employee(\"Bob Smith\", \"EMP1002\", 60000)\n",
    "try:\n",
    "    emp.promote(-3000)\n",
    "except InvalidSalaryIncrementException as e:\n",
    "    print(\"Error:\", e)\n",
    "emp.display_info()\n",
    "```\n",
    "**Expected Output:**  \n",
    "```\n",
    "Error: Invalid increment: $-3000.00. It must be positive.\n",
    "Employee ID: EMP1002 | Name: Bob Smith | Salary: $60000.00\n",
    "```\n",
    "\n",
    "---\n",
    "\n",
    "#### **Test Case 3: Multiple Promotions**  \n",
    "**Input:**  \n",
    "```python\n",
    "emp = Employee(\"Charlie Brown\", \"EMP1003\", 45000)\n",
    "emp.promote(4000)\n",
    "emp.promote(6000)\n",
    "emp.display_info()\n",
    "```\n",
    "**Expected Output:**  \n",
    "```\n",
    "Charlie Brown has been promoted! New salary: $49000.00\n",
    "Charlie Brown has been promoted! New salary: $55000.00\n",
    "Employee ID: EMP1003 | Name: Charlie Brown | Salary: $55000.00\n",
    "```\n",
    "\n",
    "---\n",
    "\n",
    "#### **Test Case 4: Zero Salary Increment**  \n",
    "**Input:**  \n",
    "```python\n",
    "emp = Employee(\"David Miller\", \"EMP1004\", 70000)\n",
    "try:\n",
    "    emp.promote(0)\n",
    "except InvalidSalaryIncrementException as e:\n",
    "    print(\"Error:\", e)\n",
    "emp.display_info()\n",
    "```\n",
    "**Expected Output:**  \n",
    "```\n",
    "Error: Invalid increment: $0.00. It must be positive.\n",
    "Employee ID: EMP1004 | Name: David Miller | Salary: $70000.00\n",
    "```\n",
    "\n",
    "---\n",
    "\n",
    "### **Summary of Test Cases**\n",
    "| **Test Case** | **Input** | **Expected Output** |\n",
    "|--------------|----------|--------------------|\n",
    "| **Valid Salary Increment** | `promote(5000)` | Salary increases successfully |\n",
    "| **Invalid Salary Increment (Negative)** | `promote(-3000)` | Exception is raised |\n",
    "| **Multiple Promotions** | `promote(4000)`, `promote(6000)` | Salary updates twice correctly |\n",
    "| **Zero Salary Increment** | `promote(0)` | Exception is raised |\n",
    "\n"
   ]
  },
  {
   "cell_type": "code",
   "execution_count": 22,
   "metadata": {},
   "outputs": [],
   "source": [
    "class InvalidSalaryIncrementException(Exception):\n",
    "    def __init__(self, *args):\n",
    "        super().__init__(*args)\n",
    "\n",
    "class Employee:\n",
    "    def __init__(self,name,id,salary):\n",
    "        self.Emp_name=name\n",
    "        self.Emp_id=id\n",
    "        self.Emp_sal=salary\n",
    "    def promote(self,increment):\n",
    "        try:\n",
    "            if increment<=0:\n",
    "                 raise InvalidSalaryIncrementException(f\"Increment cannot be less than equal to zero i.e {increment}rs\")\n",
    "            else:\n",
    "                self.Emp_sal+=increment\n",
    "                print(f\"{self.Emp_name} has been promoted!!!!!\")\n",
    "                print(f\"Salary incremented Successfully of {increment}\")\n",
    "                print(f\"New Salary is:{self.Emp_sal}\")\n",
    "        except InvalidSalaryIncrementException as Is:\n",
    "            print(Is)\n",
    "    def display_info(self):\n",
    "        print(f\"The Employee Id is {self.Emp_id} \\nEmployee Name is {self.Emp_name} \\nEmployee Salary is {self.Emp_sal}\")\n",
    "        \n"
   ]
  },
  {
   "cell_type": "code",
   "execution_count": 23,
   "metadata": {},
   "outputs": [
    {
     "name": "stdout",
     "output_type": "stream",
     "text": [
      "Alice Johnson has been promoted!!!!!\n",
      "Salary incremented Successfully of 5000\n",
      "New Salary is:55000\n",
      "The Employee Id is EMP1001 \n",
      "Employee Name is Alice Johnson \n",
      "Employee Salary is 55000\n"
     ]
    }
   ],
   "source": [
    "emp = Employee(\"Alice Johnson\", \"EMP1001\", 50000)\n",
    "emp.promote(5000)\n",
    "emp.display_info()"
   ]
  },
  {
   "cell_type": "code",
   "execution_count": 24,
   "metadata": {},
   "outputs": [
    {
     "name": "stdout",
     "output_type": "stream",
     "text": [
      "Increment cannot be less than equal to zero i.e -3000rs\n",
      "The Employee Id is EMP1002 \n",
      "Employee Name is Bob Smith \n",
      "Employee Salary is 60000\n"
     ]
    }
   ],
   "source": [
    "emp = Employee(\"Bob Smith\", \"EMP1002\", 60000)\n",
    "emp.promote(-3000)\n",
    "emp.display_info()\n"
   ]
  },
  {
   "cell_type": "code",
   "execution_count": 25,
   "metadata": {},
   "outputs": [
    {
     "name": "stdout",
     "output_type": "stream",
     "text": [
      "Charlie Brown has been promoted!!!!!\n",
      "Salary incremented Successfully of 4000\n",
      "New Salary is:49000\n",
      "Charlie Brown has been promoted!!!!!\n",
      "Salary incremented Successfully of 6000\n",
      "New Salary is:55000\n",
      "The Employee Id is EMP1003 \n",
      "Employee Name is Charlie Brown \n",
      "Employee Salary is 55000\n"
     ]
    }
   ],
   "source": [
    "emp = Employee(\"Charlie Brown\", \"EMP1003\", 45000)\n",
    "emp.promote(4000)\n",
    "emp.promote(6000)\n",
    "emp.display_info()"
   ]
  },
  {
   "cell_type": "code",
   "execution_count": 26,
   "metadata": {},
   "outputs": [
    {
     "name": "stdout",
     "output_type": "stream",
     "text": [
      "Increment cannot be less than equal to zero i.e 0rs\n",
      "The Employee Id is EMP1004 \n",
      "Employee Name is David Miller \n",
      "Employee Salary is 70000\n"
     ]
    }
   ],
   "source": [
    "emp = Employee(\"David Miller\", \"EMP1004\", 70000)\n",
    "emp.promote(0)\n",
    "emp.display_info()\n"
   ]
  }
 ],
 "metadata": {
  "colab": {
   "provenance": []
  },
  "kernelspec": {
   "display_name": "Python 3",
   "language": "python",
   "name": "python3"
  },
  "language_info": {
   "codemirror_mode": {
    "name": "ipython",
    "version": 3
   },
   "file_extension": ".py",
   "mimetype": "text/x-python",
   "name": "python",
   "nbconvert_exporter": "python",
   "pygments_lexer": "ipython3",
   "version": "3.12.4"
  }
 },
 "nbformat": 4,
 "nbformat_minor": 1
}
