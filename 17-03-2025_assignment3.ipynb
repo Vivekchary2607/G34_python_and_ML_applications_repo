{
 "cells": [
  {
   "cell_type": "markdown",
   "metadata": {},
   "source": [
    "**Bank Transactions with Exception Handling**"
   ]
  },
  {
   "cell_type": "code",
   "execution_count": 10,
   "metadata": {},
   "outputs": [],
   "source": [
    "class InsufficientFundsError(Exception):\n",
    "    def __init__(self, message):\n",
    "        super().__init__(message)\n",
    "class BankAccount:\n",
    "    def __init__(self):\n",
    "        self.balance = 0\n",
    "    def deposit(self,amount):\n",
    "        try:\n",
    "            if(amount<=0):\n",
    "                raise ValueError\n",
    "            else:\n",
    "                self.balance=self.balance+amount\n",
    "                print(f\"Deposited: {amount}. Current Balance: {self.balance}\")\n",
    "        except ValueError:\n",
    "            print(\"valueError\")\n",
    "    def withdraw(self,amount):  \n",
    "        try:\n",
    "            if amount > self.balance:\n",
    "                raise InsufficientFundsError(\"\")\n",
    "            else:\n",
    "                self.balance-=amount\n",
    "                print(f\"withdrawal Successfully remaining Balance {self.balance}\")\n",
    "        except InsufficientFundsError:\n",
    "            print(\"Insufficient funds to complete the withdrawal\")\n",
    "        \n",
    "        \n"
   ]
  },
  {
   "cell_type": "code",
   "execution_count": 11,
   "metadata": {},
   "outputs": [
    {
     "name": "stdout",
     "output_type": "stream",
     "text": [
      "Deposited: 100. Current Balance: 100\n",
      "Deposited: 200. Current Balance: 300\n",
      "withdrawal Successfully remaining Balance 180\n",
      "Insufficient funds to complete the withdrawal\n"
     ]
    }
   ],
   "source": [
    "account=BankAccount()\n",
    "account.deposit(100)\n",
    "account.deposit(200)\n",
    "account.withdraw(120)\n",
    "account.withdraw(350)"
   ]
  },
  {
   "cell_type": "markdown",
   "metadata": {},
   "source": [
    "**Student Marks Processing and File Handling**"
   ]
  },
  {
   "cell_type": "code",
   "execution_count": 37,
   "metadata": {},
   "outputs": [],
   "source": [
    "import numpy as np\n",
    "def calculate_average(marks):  \n",
    "    try:\n",
    "        if len(marks)==0:\n",
    "            raise ValueError(\"List is Empty\")\n",
    "        for element in marks:\n",
    "            if not isinstance(element,(int,float)):\n",
    "                raise TypeError(f\"Invalid element '{element}' of type {type(element)}.Expected a number\")\n",
    "        average_marks=np.mean(marks)\n",
    "        print(f\"Average Marks:{average_marks}\")\n",
    "    except ValueError as ve:\n",
    "        print(ve)\n",
    "    except TypeError as te:\n",
    "        print(te)\n",
    "    \n",
    "def save_marks_to_file(filename, marks): \n",
    "    try:\n",
    "        file=open(filename,\"w+\")\n",
    "        file.write(str(marks))\n",
    "        print(f\"Successfully saved marks to {filename}\")\n",
    "        file.close()\n",
    "    except:\n",
    "        print(\"Cannot able to open the file:\"+filename)\n",
    "def  read_marks_from_file(filename):  \n",
    "    try:\n",
    "        file_read=open(filename,\"r+\")\n",
    "        Read_marks_list=file_read.read()\n",
    "        print(f\"Read Marks:{Read_marks_list}\")\n",
    "        file_read.close()\n",
    "    except FileNotFoundError:\n",
    "        print(f\"file {filename} not Found\")\n"
   ]
  },
  {
   "cell_type": "code",
   "execution_count": 40,
   "metadata": {},
   "outputs": [
    {
     "name": "stdout",
     "output_type": "stream",
     "text": [
      "Average Marks:47.333333333333336\n",
      "Successfully saved marks to students_marks_file.txt\n",
      "Read Marks:[45, 12, 85]\n"
     ]
    }
   ],
   "source": [
    "students_marks_list=[45,12,85]\n",
    "calculate_average(students_marks_list)\n",
    "save_marks_to_file(\"students_marks_file.txt\",students_marks_list)\n",
    "read_marks_from_file(\"students_marks_file.txt\")"
   ]
  },
  {
   "cell_type": "markdown",
   "metadata": {},
   "source": [
    "**User Age Verification and Log File Management**"
   ]
  },
  {
   "cell_type": "code",
   "execution_count": 46,
   "metadata": {},
   "outputs": [],
   "source": [
    "class UnderageError(Exception):\n",
    "    def __init__(self, message):\n",
    "        super().__init__(message)\n",
    "def  verify_age(age): \n",
    "    try:\n",
    "        if age<18:\n",
    "            raise UnderageError(f\"You are not eligible to vote {age} . Age must be greater than or equal to 18\")\n",
    "        else:\n",
    "             print(\"Your are Eligible to vote\")\n",
    "    except UnderageError as ue:\n",
    "        print(ue)\n",
    "        log_error(str(ue))\n",
    "def log_error(error_message): \n",
    "    try:\n",
    "        file=open(\"error.log \",\"a+\")\n",
    "        file.write(error_message)\n",
    "        print(f\"error message has appended to the error.log file\")\n",
    "        file.close()\n",
    "    except IOError as ie:\n",
    "        print(\"IOerror cannot able to open the file\")"
   ]
  },
  {
   "cell_type": "code",
   "execution_count": 47,
   "metadata": {},
   "outputs": [
    {
     "name": "stdout",
     "output_type": "stream",
     "text": [
      "You are not eligible to vote 16 . Age must be greater than or equal to 18\n",
      "error message has appended to the error.log file\n"
     ]
    }
   ],
   "source": [
    "verify_age(16)"
   ]
  },
  {
   "cell_type": "code",
   "execution_count": 48,
   "metadata": {},
   "outputs": [
    {
     "name": "stdout",
     "output_type": "stream",
     "text": [
      "Your are Eligible to vote\n"
     ]
    }
   ],
   "source": [
    "verify_age(20)"
   ]
  },
  {
   "cell_type": "markdown",
   "metadata": {},
   "source": [
    "**Library Management System with Exception Handling**"
   ]
  },
  {
   "cell_type": "code",
   "execution_count": 7,
   "metadata": {},
   "outputs": [
    {
     "name": "stdout",
     "output_type": "stream",
     "text": [
      "You have successfully borrowed 'Java Programming'.\n",
      "Error: Sorry, 'Java Programming' is currently borrowed.\n",
      "Thank you for returning 'Java Programming'.\n",
      "You have successfully borrowed 'Java Programming'.\n"
     ]
    }
   ],
   "source": [
    "class BookNotAvailableException(Exception):\n",
    "    def __init__(self, message=\"This book is currently not available\"):\n",
    "        self.message = message\n",
    "        super().__init__(self.message)\n",
    "\n",
    "class Book:\n",
    "    def __init__(self, title, author):\n",
    "        self.title = title\n",
    "        self.author = author\n",
    "        self.available = True  # Default state is available\n",
    "    \n",
    "    def __str__(self):\n",
    "        return f\"'{self.title}' by {self.author} - {'Available' if self.available else 'Borrowed'}\"\n",
    "\n",
    "class Library:\n",
    "    def __init__(self):\n",
    "        self.books = []  # List to store book objects\n",
    "    \n",
    "    def add_book(self, book):\n",
    "        self.books.append(book)\n",
    "    \n",
    "    def borrow_book(self, title):\n",
    "        for book in self.books:\n",
    "            if book.title == title:\n",
    "                if book.available:\n",
    "                    book.available = False\n",
    "                    print(f\"You have successfully borrowed '{title}'.\")\n",
    "                    return\n",
    "                else:\n",
    "                    raise BookNotAvailableException(f\"Sorry, '{title}' is currently borrowed.\")\n",
    "        print(f\"Book '{title}' not found in the library.\")\n",
    "\n",
    "    def return_book(self, title):\n",
    "        for book in self.books:\n",
    "            if book.title == title:\n",
    "                if not book.available:\n",
    "                    book.available = True\n",
    "                    print(f\"Thank you for returning '{title}'.\")\n",
    "                    return\n",
    "                else:\n",
    "                    print(f\"'{title}' is already available in the library.\")\n",
    "                    return\n",
    "        print(f\"Book '{title}' not found in the library.\")\n",
    "\n",
    "# Test Case\n",
    "library = Library()\n",
    "book1 = Book(\"Java Programming\", \"John Doe\")\n",
    "book2 = Book(\"Data Science Basics\", \"Jane Smith\")\n",
    "\n",
    "library.add_book(book1)\n",
    "library.add_book(book2)\n",
    "\n",
    "try:\n",
    "    library.borrow_book(\"Java Programming\")\n",
    "    library.borrow_book(\"Java Programming\")  # Should raise BookNotAvailableException\n",
    "except BookNotAvailableException as e:\n",
    "    print(\"Error:\", e)\n",
    "\n",
    "library.return_book(\"Java Programming\")\n",
    "library.borrow_book(\"Java Programming\")  # Should work again\n"
   ]
  },
  {
   "cell_type": "code",
   "execution_count": null,
   "metadata": {},
   "outputs": [
    {
     "name": "stdout",
     "output_type": "stream",
     "text": [
      "vivek from hyd is 21 years old.\n"
     ]
    }
   ],
   "source": [
    "from datetime import datetime\n",
    "\n",
    "class Person:\n",
    "    def __init__(self, name, country, date_of_birth):\n",
    "        self.name = name\n",
    "        self.country = country\n",
    "        self.date_of_birth = datetime.strptime(date_of_birth, \"%Y-%m-%d\")  \n",
    "    def person_Age(self):\n",
    "        today = datetime.today()\n",
    "        age = today.year - self.date_of_birth.year\n",
    "        if (today.month, today.day) < (self.date_of_birth.month, self.date_of_birth.day):\n",
    "            age -= 1  \n",
    "        return age\n",
    "\n",
    "person = Person(\"rahu;\", \"hyd\", \"2005-07-26\")\n",
    "print(f\"{person.name} from {person.country} is {person.person_Age()} years old.\")\n"
   ]
  },
  {
   "cell_type": "code",
   "execution_count": 1,
   "metadata": {},
   "outputs": [],
   "source": [
    "class Calculate:\n",
    "    def __init__(self,*agrs):\n",
    "        self.args=agrs\n",
    "    def add(self):\n",
    "        res=0\n",
    "        for i in self.args:\n",
    "            res+=int(i)\n",
    "        print(f\"Addition:{res}\")\n",
    "    def sub(self):\n",
    "        res=self.args[0]\n",
    "        for i in self.args[1:]:\n",
    "            res-=int(i)\n",
    "        print(f\"Substraction:{res}\")\n",
    "    def mul(self):\n",
    "        res=1\n",
    "        for i in self.args:\n",
    "            res*=int(i)\n",
    "        print(f\"Multiplication:{res}\")\n",
    "    def div(self):\n",
    "        res=self.args[0]\n",
    "        for i in self.args[1:]:\n",
    "            res/=int(i)\n",
    "        print(f\"Division:{res}\")"
   ]
  },
  {
   "cell_type": "code",
   "execution_count": 2,
   "metadata": {},
   "outputs": [],
   "source": [
    "c1=Calculate(5,8,9,7)"
   ]
  },
  {
   "cell_type": "code",
   "execution_count": 3,
   "metadata": {},
   "outputs": [
    {
     "name": "stdout",
     "output_type": "stream",
     "text": [
      "Addition:29\n"
     ]
    }
   ],
   "source": [
    "c1.add()"
   ]
  },
  {
   "cell_type": "code",
   "execution_count": 4,
   "metadata": {},
   "outputs": [
    {
     "name": "stdout",
     "output_type": "stream",
     "text": [
      "Substraction:-19\n"
     ]
    }
   ],
   "source": [
    "c1.sub()"
   ]
  },
  {
   "cell_type": "code",
   "execution_count": 5,
   "metadata": {},
   "outputs": [
    {
     "name": "stdout",
     "output_type": "stream",
     "text": [
      "Multiplication:2520\n"
     ]
    }
   ],
   "source": [
    "c1.mul()\n"
   ]
  },
  {
   "cell_type": "code",
   "execution_count": 6,
   "metadata": {},
   "outputs": [
    {
     "name": "stdout",
     "output_type": "stream",
     "text": [
      "Division:0.009920634920634922\n"
     ]
    }
   ],
   "source": [
    "c1.div()"
   ]
  },
  {
   "cell_type": "markdown",
   "metadata": {},
   "source": []
  }
 ],
 "metadata": {
  "kernelspec": {
   "display_name": "Python 3",
   "language": "python",
   "name": "python3"
  },
  "language_info": {
   "codemirror_mode": {
    "name": "ipython",
    "version": 3
   },
   "file_extension": ".py",
   "mimetype": "text/x-python",
   "name": "python",
   "nbconvert_exporter": "python",
   "pygments_lexer": "ipython3",
   "version": "3.12.4"
  }
 },
 "nbformat": 4,
 "nbformat_minor": 2
}
