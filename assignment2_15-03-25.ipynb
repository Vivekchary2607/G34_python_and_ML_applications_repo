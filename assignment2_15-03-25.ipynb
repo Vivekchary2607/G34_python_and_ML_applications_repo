{
 "cells": [
  {
   "cell_type": "markdown",
   "metadata": {},
   "source": [
    "**Calculate Euclidean distance**"
   ]
  },
  {
   "cell_type": "code",
   "execution_count": 5,
   "metadata": {},
   "outputs": [
    {
     "name": "stdout",
     "output_type": "stream",
     "text": [
      "3.1622776601683795\n"
     ]
    }
   ],
   "source": [
    "x1,y1=6,7\n",
    "x2,y2=5,4\n",
    "result_eucild_dist=(((x2-x1)**2)+((y2-y1)**2))**0.5\n",
    "print(result_eucild_dist)"
   ]
  },
  {
   "cell_type": "markdown",
   "metadata": {},
   "source": [
    "**Reverse User Input for Data Processing**"
   ]
  },
  {
   "cell_type": "code",
   "execution_count": 8,
   "metadata": {},
   "outputs": [
    {
     "name": "stdout",
     "output_type": "stream",
     "text": [
      " 1234abcd\n"
     ]
    }
   ],
   "source": [
    "str1=input(\"enter the string:\")\n",
    "rev_str=\"\".join(reversed(str1))\n",
    "print(rev_str)"
   ]
  },
  {
   "cell_type": "markdown",
   "metadata": {},
   "source": [
    "**Strange Sort: Alternating Smallest and Largest**"
   ]
  },
  {
   "cell_type": "code",
   "execution_count": null,
   "metadata": {},
   "outputs": [
    {
     "name": "stdout",
     "output_type": "stream",
     "text": [
      "Your list: [1, 3, 4, 5, 11]\n",
      "[1, 11, 3, 5, 4]\n"
     ]
    }
   ],
   "source": [
    "user_input = input(\"Enter the list elements separated by space: \")\n",
    "\n",
    "# Convert the input string into a list\n",
    "user_list = [int(x) for x in user_input.split()]\n",
    "\n",
    "print(\"Your list:\", user_list)\n",
    "new_lst=[]\n",
    "while user_list:\n",
    "    min_num=min(user_list)\n",
    "    max_num=max(user_list)\n",
    "    new_lst.append(min_num)\n",
    "    if min_num != max_num:  # Avoid appending max_num twice if min_num == max_num\n",
    "        new_lst.append(max_num)\n",
    "    user_list.remove(min_num)\n",
    "    if max_num in user_list:\n",
    "        user_list.remove(max_num)\n",
    "    else:\n",
    "        None\n",
    "print(new_lst)"
   ]
  },
  {
   "cell_type": "markdown",
   "metadata": {},
   "source": [
    "**Finding indices of Closest Temperatures**"
   ]
  },
  {
   "cell_type": "code",
   "execution_count": 9,
   "metadata": {},
   "outputs": [
    {
     "name": "stdout",
     "output_type": "stream",
     "text": [
      "[4, 1]\n"
     ]
    }
   ],
   "source": [
    "def find_closest_temperatures(temperatures):\n",
    "    min_diff = float('inf')  # Initialize with a very large value\n",
    "    indices = [-1, -1]\n",
    "    \n",
    "    # Loop through all pairs of temperatures\n",
    "    for i in range(len(temperatures)):\n",
    "        for j in range(i + 1, len(temperatures)):\n",
    "            diff = abs(temperatures[i] - temperatures[j])\n",
    "            if diff < min_diff:  # Check if this is the smallest difference\n",
    "                min_diff = diff\n",
    "                indices = [i, j]\n",
    "                if j>i:\n",
    "                    indices=[j,i]\n",
    "    return indices\n",
    "\n",
    "# Example usage\n",
    "temperatures_list=input(\"enter the temperatures:\")\n",
    "temperatures = [int(x) for x in temperatures_list.split()]\n",
    "output = find_closest_temperatures(temperatures)\n",
    "print(output)\n"
   ]
  },
  {
   "cell_type": "markdown",
   "metadata": {},
   "source": [
    "**Check if a String is Pangram**"
   ]
  },
  {
   "cell_type": "code",
   "execution_count": 13,
   "metadata": {},
   "outputs": [
    {
     "name": "stdout",
     "output_type": "stream",
     "text": [
      "Given Sentence:hi heelo\n",
      "False\n"
     ]
    }
   ],
   "source": [
    "def is_pangram(sentence):\n",
    "    # Create a set of all the letters in the alphabet\n",
    "    alphabet = set(\"abcdefghijklmnopqrstuvwxyz\")\n",
    "    # Convert the input string to lowercase and create a set of its characters\n",
    "    sentence_set = set(sentence.lower())\n",
    "    # Check if all the alphabet letters are present in the sentence\n",
    "    return alphabet.issubset(sentence_set)\n",
    "\n",
    "# Example usage\n",
    "input_sentence = input(\"enter the Sentence:\")\n",
    "print(\"Given Sentence:\"+input_sentence)\n",
    "print(is_pangram(input_sentence))  # Output: True\n"
   ]
  },
  {
   "cell_type": "code",
   "execution_count": null,
   "metadata": {},
   "outputs": [],
   "source": []
  }
 ],
 "metadata": {
  "kernelspec": {
   "display_name": "Python 3",
   "language": "python",
   "name": "python3"
  },
  "language_info": {
   "codemirror_mode": {
    "name": "ipython",
    "version": 3
   },
   "file_extension": ".py",
   "mimetype": "text/x-python",
   "name": "python",
   "nbconvert_exporter": "python",
   "pygments_lexer": "ipython3",
   "version": "3.12.4"
  }
 },
 "nbformat": 4,
 "nbformat_minor": 2
}
