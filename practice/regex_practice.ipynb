{
 "cells": [
  {
   "cell_type": "code",
   "execution_count": 19,
   "metadata": {},
   "outputs": [],
   "source": [
    "text = \"My Name is Chaitanya and I Live in India.\"\n"
   ]
  },
  {
   "cell_type": "code",
   "execution_count": 20,
   "metadata": {},
   "outputs": [
    {
     "data": {
      "text/plain": [
       "['My', 'Name', 'Chaitanya', 'I', 'Live', 'India']"
      ]
     },
     "execution_count": 20,
     "metadata": {},
     "output_type": "execute_result"
    }
   ],
   "source": [
    "import re\n",
    "re.findall(r'\\b[A-Z][a-z]*', text)"
   ]
  },
  {
   "cell_type": "code",
   "execution_count": 23,
   "metadata": {},
   "outputs": [
    {
     "name": "stdout",
     "output_type": "stream",
     "text": [
      "['My', 'Name', 'Chaitanya', 'I', 'Live', 'India']\n"
     ]
    }
   ],
   "source": [
    "print(re.findall('[A-Z][a-z]*',text))"
   ]
  },
  {
   "cell_type": "code",
   "execution_count": 24,
   "metadata": {},
   "outputs": [],
   "source": [
    "text1 = \"This    is  a   sentence    with   extra  spaces.\""
   ]
  },
  {
   "cell_type": "code",
   "execution_count": 28,
   "metadata": {},
   "outputs": [
    {
     "data": {
      "text/plain": [
       "'This is a sentence with extra spaces.'"
      ]
     },
     "execution_count": 28,
     "metadata": {},
     "output_type": "execute_result"
    }
   ],
   "source": [
    "re.sub(r'\\s+', ' ', text1)"
   ]
  },
  {
   "cell_type": "code",
   "execution_count": 29,
   "metadata": {},
   "outputs": [],
   "source": [
    " tweet = \"Learning #Python is fun! #Coding #Regex\""
   ]
  },
  {
   "cell_type": "code",
   "execution_count": null,
   "metadata": {},
   "outputs": [
    {
     "data": {
      "text/plain": [
       "['#Python', '#Coding', '#Regex']"
      ]
     },
     "execution_count": 38,
     "metadata": {},
     "output_type": "execute_result"
    }
   ],
   "source": [
    "re.findall(r\"#\\w+\",tweet)"
   ]
  },
  {
   "cell_type": "code",
   "execution_count": null,
   "metadata": {},
   "outputs": [],
   "source": [
    "files = [\"report.pdf\", \"image.jpg\", \"document.txt\", \"script.py\"]"
   ]
  },
  {
   "cell_type": "code",
   "execution_count": 46,
   "metadata": {},
   "outputs": [
    {
     "name": "stdout",
     "output_type": "stream",
     "text": [
      "File extensions: ['.pdf', '.jpg', '.txt', '.py']\n"
     ]
    }
   ],
   "source": [
    "import re\n",
    "\n",
    "files = [\"report.pdf\", \"image.jpg\", \"document.txt\", \"script.py\"]\n",
    "\n",
    "extensions = [re.search(r'.\\w+$', file).group() for file in files]\n",
    "print(\"File extensions:\", extensions)\n"
   ]
  },
  {
   "cell_type": "code",
   "execution_count": 49,
   "metadata": {},
   "outputs": [],
   "source": [
    "pattern= r\"[a-zA-Z0-9._%+-]+@[a-zA-Z0-9.-]+\\.[a-zA-Z]{2,}$\"\n"
   ]
  },
  {
   "cell_type": "code",
   "execution_count": 53,
   "metadata": {},
   "outputs": [
    {
     "name": "stdout",
     "output_type": "stream",
     "text": [
      "['vivek26@gmail.com']\n",
      "False\n"
     ]
    }
   ],
   "source": [
    "def email(email1):\n",
    "    res=re.findall(pattern,email1)\n",
    "    print(str(res))\n",
    "    if str(res)==list(email1):\n",
    "        return True\n",
    "    else:\n",
    "        return False\n",
    "\n",
    "print(email(\"vivek26@gmail.com\"))"
   ]
  },
  {
   "cell_type": "code",
   "execution_count": null,
   "metadata": {},
   "outputs": [],
   "source": [
    "usename_pattern=\"^[a-zA-z0-9._]+\"\n",
    "domain_pattern=\"@[a-zA-Z0-9]+\"\n",
    "extension_pattern=\".[a-zA-Z]{2,4}$\"\n",
    "final_pattern=\"^[a-zA-z0-9._]+@[a-zA-Z0-9]+.[a-zA-Z]{2,4}$\""
   ]
  },
  {
   "cell_type": "code",
   "execution_count": 59,
   "metadata": {},
   "outputs": [
    {
     "name": "stdout",
     "output_type": "stream",
     "text": [
      "True\n"
     ]
    }
   ],
   "source": [
    "def email(email1):\n",
    "     return bool(re.match(final_pattern,email1))\n",
    "    \n",
    "\n",
    "print(email(\"vivek26@gmail.com\"))"
   ]
  },
  {
   "cell_type": "code",
   "execution_count": null,
   "metadata": {},
   "outputs": [],
   "source": []
  }
 ],
 "metadata": {
  "kernelspec": {
   "display_name": "Python 3",
   "language": "python",
   "name": "python3"
  },
  "language_info": {
   "codemirror_mode": {
    "name": "ipython",
    "version": 3
   },
   "file_extension": ".py",
   "mimetype": "text/x-python",
   "name": "python",
   "nbconvert_exporter": "python",
   "pygments_lexer": "ipython3",
   "version": "3.12.4"
  }
 },
 "nbformat": 4,
 "nbformat_minor": 2
}
