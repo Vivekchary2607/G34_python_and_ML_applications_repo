{
 "cells": [
  {
   "cell_type": "markdown",
   "metadata": {},
   "source": [
    "**Scenario 2: Student Grades Analysis** "
   ]
  },
  {
   "cell_type": "code",
   "execution_count": 57,
   "metadata": {},
   "outputs": [],
   "source": [
    "import numpy as np\n",
    "\n",
    "grades = {}  # Dictionary to store student names and grades\n",
    "\n",
    "# Function to add a student and their grade\n",
    "def add_student(grades, name, grade):\n",
    "    if name in grades:\n",
    "        print(f\"Student {name} already exists.\")\n",
    "        pass\n",
    "    else:\n",
    "        grades[name] = grade  # Store the grade associated with the student's name\n",
    "\n",
    "# Function to calculate the average grade\n",
    "def calculate_average_grade(grades):\n",
    "    if grades:  # Check if the grades dictionary is not empty\n",
    "        avg = np.mean(list(grades.values()))  # Convert grades to a list and calculate mean\n",
    "        print(f\"Average grade: {avg}\")\n",
    "    else:\n",
    "        print(\"No grades available to calculate average.\")\n",
    "def find_highest_and_lowest_grade(grades):\n",
    "    if grades:\n",
    "        max_grade=max(list(grades.values()))\n",
    "        print(f\"Highest grade: {max_grade}\")\n",
    "        min_grade=min(list(grades.values()))\n",
    "        print(f\"lowest grade: {min_grade}\")"
   ]
  },
  {
   "cell_type": "code",
   "execution_count": 58,
   "metadata": {},
   "outputs": [
    {
     "name": "stdout",
     "output_type": "stream",
     "text": [
      "Student Bob already exists.\n",
      "Student Charlie already exists.\n",
      "{'Alice': 85, 'Bob': 92, 'Charlie': 78}\n",
      "Average grade: 85.0\n",
      "Highest grade: 92\n",
      "lowest grade: 78\n"
     ]
    }
   ],
   "source": [
    "add_student(grades, 'Alice', 85)\n",
    "add_student(grades, 'Bob', 92)\n",
    "add_student(grades, 'Bob', 92)\n",
    "add_student(grades, 'Charlie', 78)\n",
    "add_student(grades, 'Charlie', 78)\n",
    "print(grades)\n",
    "calculate_average_grade(grades)\n",
    "find_highest_and_lowest_grade(grades)"
   ]
  },
  {
   "cell_type": "code",
   "execution_count": 59,
   "metadata": {},
   "outputs": [
    {
     "name": "stdout",
     "output_type": "stream",
     "text": [
      "Average grade: 84.16666666666667\n",
      "Highest grade: 95\n",
      "lowest grade: 67\n"
     ]
    }
   ],
   "source": [
    "add_student(grades, 'David', 88)\n",
    "add_student(grades, 'Eva', 95)\n",
    "add_student(grades, 'Frank', 67)\n",
    "calculate_average_grade(grades)\n",
    "find_highest_and_lowest_grade(grades)"
   ]
  },
  {
   "cell_type": "markdown",
   "metadata": {},
   "source": [
    "**Scenario 3: Library Book Catalog**  "
   ]
  },
  {
   "cell_type": "code",
   "execution_count": 53,
   "metadata": {},
   "outputs": [],
   "source": [
    "catalog = []\n",
    "def add_book(catalog,name,author,year_of_publish):\n",
    "    book={\"name\":name,\"author\":author,\"year\":year_of_publish}\n",
    "    catalog.append(book)"
   ]
  },
  {
   "cell_type": "code",
   "execution_count": 54,
   "metadata": {},
   "outputs": [],
   "source": [
    "def find_books_by_author(catalog,author):\n",
    "    print(f\"Bokks By {author}-\")\n",
    "    for i in catalog:\n",
    "        if(i['author']==author):\n",
    "            print(f\"--{i.get('name')} ({i.get(\"year\")})\")\n",
    "            "
   ]
  },
  {
   "cell_type": "code",
   "execution_count": 55,
   "metadata": {},
   "outputs": [
    {
     "name": "stdout",
     "output_type": "stream",
     "text": [
      "Bokks By George Orwell-\n",
      "--1984 (1949)\n",
      "--Animal Farm (1945)\n"
     ]
    }
   ],
   "source": [
    "\n",
    "add_book(catalog, 'To Kill a Mockingbird', 'Harper Lee', 1960)\n",
    "add_book(catalog, '1984', 'George Orwell', 1949)\n",
    "add_book(catalog, 'Animal Farm', 'George Orwell', 1945)\n",
    "find_books_by_author(catalog, 'George Orwell')"
   ]
  },
  {
   "cell_type": "code",
   "execution_count": 56,
   "metadata": {},
   "outputs": [
    {
     "name": "stdout",
     "output_type": "stream",
     "text": [
      "Bokks By Jane Austen-\n",
      "--Pride and Prejudice (1813)\n",
      "--Sense and Sensibility (1811)\n"
     ]
    }
   ],
   "source": [
    "add_book(catalog, 'Pride and Prejudice', 'Jane Austen', 1813)\n",
    "add_book(catalog, 'Sense and Sensibility', 'Jane Austen', 1811)\n",
    "add_book(catalog, 'Moby-Dick', 'Herman Melville', 1851)\n",
    "find_books_by_author(catalog, 'Jane Austen')"
   ]
  },
  {
   "cell_type": "markdown",
   "metadata": {},
   "source": [
    "**Scenario 4: Employee Record System** "
   ]
  },
  {
   "cell_type": "code",
   "execution_count": 163,
   "metadata": {},
   "outputs": [],
   "source": [
    "import numpy as np\n",
    "employees = []\n",
    "def add_employee(employees,name,department,salary):\n",
    "    employee_details={\"name\":name,\"department\":department,\"salary\":salary}\n",
    "    employees.append(employee_details)"
   ]
  },
  {
   "cell_type": "code",
   "execution_count": 168,
   "metadata": {},
   "outputs": [],
   "source": [
    "def find_employees_by_department(employees,department):\n",
    "    print(f\"Employees in {department}--\")\n",
    "    for employee in employees:\n",
    "        if employee['department']==department:\n",
    "            print(f\"--{employee.get(\"name\")}(${employee.get(\"salary\")})\")"
   ]
  },
  {
   "cell_type": "code",
   "execution_count": 169,
   "metadata": {},
   "outputs": [],
   "source": [
    "def calculate_average_salary(employees):\n",
    "    length=len(employees)\n",
    "    sum=0\n",
    "    if employees:\n",
    "        for employee in employees:\n",
    "            sum+=employee['salary']\n",
    "        avg_salary=sum/length\n",
    "        print(f\"Average salary of Employees is:{avg_salary}\")"
   ]
  },
  {
   "cell_type": "code",
   "execution_count": 170,
   "metadata": {},
   "outputs": [
    {
     "name": "stdout",
     "output_type": "stream",
     "text": [
      "Employees in IT--\n",
      "--Bob($75000)\n",
      "--Charlie($80000)\n",
      "--Bob($75000)\n",
      "--Charlie($80000)\n",
      "Average salary of Employees is:74444.44444444444\n"
     ]
    }
   ],
   "source": [
    "\n",
    "add_employee(employees, 'Alice', 'HR', 60000)\n",
    "add_employee(employees, 'Bob', 'IT', 75000)\n",
    "add_employee(employees, 'Charlie', 'IT', 80000)\n",
    "find_employees_by_department(employees, 'IT')\n",
    "calculate_average_salary(employees)"
   ]
  },
  {
   "cell_type": "code",
   "execution_count": 171,
   "metadata": {},
   "outputs": [
    {
     "name": "stdout",
     "output_type": "stream",
     "text": [
      "Employees in Finance--\n",
      "--David($85000)\n",
      "--Emma($90000)\n",
      "--David($85000)\n",
      "--Emma($90000)\n",
      "Average salary of Employees is:75833.33333333333\n"
     ]
    }
   ],
   "source": [
    "add_employee(employees, 'David', 'Finance', 85000)\n",
    "add_employee(employees, 'Emma', 'Finance', 90000)\n",
    "add_employee(employees, 'Frank', 'Marketing', 65000)\n",
    "find_employees_by_department(employees, 'Finance')\n",
    "calculate_average_salary(employees)"
   ]
  },
  {
   "cell_type": "markdown",
   "metadata": {},
   "source": [
    "**Scenario 5: Online Shopping Cart**  "
   ]
  },
  {
   "cell_type": "code",
   "execution_count": 174,
   "metadata": {},
   "outputs": [
    {
     "name": "stdout",
     "output_type": "stream",
     "text": [
      "Total cost:₹1850.00\n",
      "Item Charger is removed..\n",
      "Total cost:₹1800.00\n"
     ]
    }
   ],
   "source": [
    "cart = {}\n",
    "def add_to_cart(cart,product_name,quantity,price):\n",
    "    if product_name in cart:\n",
    "        print(f\"Product {product_name} already exists..\")\n",
    "    else:\n",
    "        cart[product_name]={\"quantity\":quantity,\"price\":price}\n",
    "def calculate_total_cost(cart):\n",
    "    total = 0\n",
    "    for product_name,item in cart.items():\n",
    "            quantity = item[\"quantity\"]\n",
    "            price = item[\"price\"]\n",
    "            total += quantity * price\n",
    "    print(f\"Total cost:₹{total:.2f}\")\n",
    "def remove_from_cart(cart,product_name):\n",
    "    if product_name in cart:\n",
    "        del cart[product_name]\n",
    "    print(f\"Item {product_name} is removed..\")\n",
    "\n",
    "add_to_cart(cart, 'Phone', 1, 800)\n",
    "add_to_cart(cart, 'Charger', 1, 50)\n",
    "add_to_cart(cart, 'Tablet', 2, 500)\n",
    "calculate_total_cost(cart)\n",
    "remove_from_cart(cart, 'Charger')\n",
    "calculate_total_cost(cart)"
   ]
  },
  {
   "cell_type": "code",
   "execution_count": null,
   "metadata": {},
   "outputs": [],
   "source": []
  },
  {
   "cell_type": "code",
   "execution_count": null,
   "metadata": {},
   "outputs": [],
   "source": []
  },
  {
   "cell_type": "code",
   "execution_count": null,
   "metadata": {},
   "outputs": [],
   "source": []
  }
 ],
 "metadata": {
  "kernelspec": {
   "display_name": "Python 3",
   "language": "python",
   "name": "python3"
  },
  "language_info": {
   "codemirror_mode": {
    "name": "ipython",
    "version": 3
   },
   "file_extension": ".py",
   "mimetype": "text/x-python",
   "name": "python",
   "nbconvert_exporter": "python",
   "pygments_lexer": "ipython3",
   "version": "3.12.4"
  }
 },
 "nbformat": 4,
 "nbformat_minor": 2
}
