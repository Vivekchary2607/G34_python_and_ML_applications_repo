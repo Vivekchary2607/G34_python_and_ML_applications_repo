{
 "cells": [
  {
   "cell_type": "markdown",
   "id": "10c7113b",
   "metadata": {},
   "source": [
    "\n",
    "# Rock-Paper-Scissors - Milestone Project\n",
    "\n",
    "## Introduction\n",
    "This project will guide you through implementing a simple **Rock-Paper-Scissors** game using **Classes and Objects**. \n",
    "\n",
    "You will complete the tasks step by step, testing each part before moving to the next.\n"
   ]
  },
  {
   "cell_type": "markdown",
   "id": "369198a5",
   "metadata": {},
   "source": [
    "\n",
    "## Task 1: Create the Player Class\n",
    "\n",
    "**Instructions:**\n",
    "1. Define a class `Player` with:\n",
    "   - `name` (string) to store the player's name.\n",
    "   - `score` (integer) initialized to 0.\n",
    "   - A method `choose_move()` that asks for user input (**rock, paper, or scissors**) and returns the choice.\n",
    "2. Validate user input (must be rock, paper, or scissors).\n",
    "\n",
    "**Test Case:**\n",
    "- Create a `Player` object and call `choose_move()`.\n"
   ]
  },
  {
   "cell_type": "code",
   "execution_count": 16,
   "id": "2838669c",
   "metadata": {},
   "outputs": [],
   "source": [
    "class Player:\n",
    "    def __init__(self, name):\n",
    "        self.name=name\n",
    "        self.score=0\n",
    "    def choose_move(self):\n",
    "        self.user_choice=input(f\"{self.name} enter your Choice :(rock, paper, or scissors)\")\n",
    "        if self.user_choice==\"rock\" or self.user_choice==\"paper\" or self.user_choice==\"scissors\":\n",
    "            return  f\"Your Choice is {self.user_choice}\"\n",
    "        else:\n",
    "            return \"Invalid Choice\"\n"
   ]
  },
  {
   "cell_type": "code",
   "execution_count": 17,
   "id": "7e61b79d",
   "metadata": {},
   "outputs": [
    {
     "name": "stdout",
     "output_type": "stream",
     "text": [
      "Your Choice is rock\n"
     ]
    }
   ],
   "source": [
    "# Test Case\n",
    "player1 = Player(\"Alice\")\n",
    "print(player1.choose_move())  # Expected: rock, paper, or scissors (user input)"
   ]
  },
  {
   "cell_type": "markdown",
   "id": "405e88a4",
   "metadata": {},
   "source": [
    "\n",
    "## Task 2: Create the Computer Class\n",
    "\n",
    "**Instructions:**\n",
    "1. Define a class `Computer` that **inherits** from `Player`.\n",
    "2. Override the `choose_move()` method to return a random choice of rock, paper, or scissors.\n",
    "\n",
    "**Test Case:**\n",
    "- Create a `Computer` object and call `choose_move()` multiple times to check randomness.\n"
   ]
  },
  {
   "cell_type": "code",
   "execution_count": null,
   "id": "d216adf4",
   "metadata": {},
   "outputs": [],
   "source": [
    "import random\n",
    "\n",
    "class Computer(Player):\n",
    "    def choose_move(self):\n",
    "        self.comp_choice= random.choice(['rock','paper','scissors'])  # TODO: Return a random choice\n",
    "        return f\"Computer Choice is {self.comp_choice}\"\n",
    "\n"
   ]
  },
  {
   "cell_type": "code",
   "execution_count": 31,
   "id": "fcdeab2c",
   "metadata": {},
   "outputs": [
    {
     "name": "stdout",
     "output_type": "stream",
     "text": [
      "Computer Choice is scissors\n"
     ]
    }
   ],
   "source": [
    "# Test Case\n",
    "computer = Computer(\"AI\")\n",
    "print(computer.choose_move())  # Expected: Randomly rock, paper, or scissors"
   ]
  },
  {
   "cell_type": "markdown",
   "id": "be1a3bfd",
   "metadata": {},
   "source": [
    "\n",
    "## Task 3: Implement Game Logic\n",
    "\n",
    "**Instructions:**\n",
    "1. Define a function `determine_winner(player_choice, computer_choice)`. \n",
    "2. Use game rules:\n",
    "   - Rock beats Scissors\n",
    "   - Scissors beat Paper\n",
    "   - Paper beats Rock\n",
    "3. Return \"Player wins\", \"Computer wins\", or \"It's a tie\".\n",
    "\n",
    "**Test Case:**\n",
    "- Call `determine_winner()` with different move combinations.\n"
   ]
  },
  {
   "cell_type": "code",
   "execution_count": 33,
   "id": "9fea4e4c",
   "metadata": {},
   "outputs": [],
   "source": [
    "def determine_winner(player_choice, computer_choice):\n",
    "    # TODO: Implement game logic\n",
    "    if player_choice==computer_choice:\n",
    "        return \"It's a tie\"\n",
    "    elif (player_choice==\"rock\" and computer_choice==\"scissors\") or (player_choice==\"scissors\" and computer_choice==\"paper\") or (player_choice==\"paper\" and computer_choice==\"rock\"):\n",
    "        return \"Player wins\"\n",
    "    else:\n",
    "        return \"Computer wins\""
   ]
  },
  {
   "cell_type": "code",
   "execution_count": 34,
   "id": "d1bcb7b2",
   "metadata": {},
   "outputs": [
    {
     "name": "stdout",
     "output_type": "stream",
     "text": [
      "Player wins\n",
      "Player wins\n",
      "Computer wins\n",
      "It's a tie\n"
     ]
    }
   ],
   "source": [
    "# Test Cases\n",
    "print(determine_winner(\"rock\", \"scissors\"))  # Expected: Player wins\n",
    "print(determine_winner(\"paper\", \"rock\"))  # Expected: Player wins\n",
    "print(determine_winner(\"scissors\", \"rock\"))  # Expected: Computer wins\n",
    "print(determine_winner(\"rock\", \"rock\")) # Expected: Tie"
   ]
  },
  {
   "cell_type": "markdown",
   "id": "89b553ff",
   "metadata": {},
   "source": [
    "\n",
    "## Task 4: Implement Game Loop\n",
    "\n",
    "**Instructions:**\n",
    "1. Create a class `Game` to manage the game.\n",
    "2. The game should:\n",
    "   - Ask the player for their move.\n",
    "   - Get the computer's move.\n",
    "   - Determine the winner.\n",
    "   - Track scores (best of 3 rounds).\n",
    "   - Ask if the player wants to play again.\n",
    "\n",
    "**Test Case:**\n",
    "- Run the game loop and check for correct scorekeeping.\n"
   ]
  },
  {
   "cell_type": "code",
   "execution_count": null,
   "id": "ea7e113d",
   "metadata": {},
   "outputs": [
    {
     "name": "stdout",
     "output_type": "stream",
     "text": [
      "Welcome to Rock, Paper, Scissors!\n",
      "Vivek choice: rock\n",
      "Computer choice: rock\n",
      "It's a tie\n",
      "Scores:\n",
      "Vivek: 0\n",
      "Computer: 0\n",
      "Vivek choice: rock\n",
      "Computer choice: rock\n",
      "It's a tie\n",
      "Scores:\n",
      "Vivek: 0\n",
      "Computer: 0\n",
      "Vivek choice: rock\n",
      "Computer choice: paper\n",
      "Computer won\n",
      "Scores:\n",
      "Vivek: 0\n",
      "Computer: 1\n",
      "Game over!\n",
      "Computer is the ultimate winner!\n",
      "\n",
      "\n",
      "Welcome to Rock, Paper, Scissors!\n",
      "Vivek choice: rock\n",
      "Computer choice: paper\n",
      "Computer won\n",
      "Scores:\n",
      "Vivek: 0\n",
      "Computer: 1\n",
      "Vivek choice: paper\n",
      "Computer choice: rock\n",
      "Vivek won\n",
      "Scores:\n",
      "Vivek: 1\n",
      "Computer: 1\n",
      "Vivek choice: rock\n",
      "Computer choice: rock\n",
      "It's a tie\n",
      "Scores:\n",
      "Vivek: 1\n",
      "Computer: 1\n",
      "Game over!\n",
      "It's an overall tie!\n",
      "\n",
      "\n",
      "Welcome to Rock, Paper, Scissors!\n",
      "Thanks for playing!\n"
     ]
    }
   ],
   "source": [
    "import random\n",
    "class Player:\n",
    "    def __init__(self, name):\n",
    "        self.name=name\n",
    "        self.score=0\n",
    "    def choose_move(self):\n",
    "        self.user_choice=input(f\"{self.name} enter your Choice :(rock, paper, or scissors)\")\n",
    "        if self.user_choice==\"rock\" or self.user_choice==\"paper\" or self.user_choice==\"scissors\":\n",
    "            return  self.user_choice\n",
    "        else:\n",
    "            return \"Invalid Choice\"\n",
    "class Computer(Player):\n",
    "    def choose_move(self):\n",
    "        self.comp_choice= random.choice(['rock','paper','scissors'])  # TODO: Return a random choice\n",
    "        return self.comp_choice\n",
    "class Game:\n",
    "    def __init__(self):\n",
    "        # TODO: Initialize player and computer\n",
    "        self.player = None\n",
    "        self.computer = Computer(\"Computer\")\n",
    "        self.player_score=0\n",
    "        self.computer_score=0\n",
    "    def reset_scores(self):\n",
    "        self.player_score = 0\n",
    "        self.computer_score = 0\n",
    "    def play_round(self):\n",
    "        # TODO: Implement a single round\n",
    "        if not self.player:\n",
    "            player_name=input(\"Enter the player name:\")\n",
    "            self.player=Player(player_name)\n",
    "        player_move=self.player.choose_move()\n",
    "        computer_move=self.computer.choose_move()\n",
    "\n",
    "        print(f\"{self.player.name} choice: {player_move}\")\n",
    "        print(f\"{self.computer.name} choice: {computer_move}\")\n",
    "        if self.player_score+self.computer_score<=3:\n",
    "        #  Implement game logic\n",
    "            if player_move==computer_move:\n",
    "               print(\"It's a tie\")\n",
    "            elif (player_move==\"rock\" and computer_move==\"scissors\") or (player_move==\"scissors\" and computer_move==\"paper\") or (player_move==\"paper\" and computer_move==\"rock\"):\n",
    "                print(f\"{self.player.name} won\")\n",
    "                self.player_score+=1\n",
    "           \n",
    "            else:\n",
    "                print(f\"Computer won\")\n",
    "                self.computer_score+=1\n",
    "            \n",
    "            print(f\"Scores:\\n{self.player.name}: {self.player_score}\\n{self.computer.name}: {self.computer_score}\")\n",
    "        \n",
    "    def play_game(self):\n",
    "    \n",
    "        # TODO: Implement game loop\n",
    "        print(\"Welcome to Rock, Paper, Scissors!\")\n",
    "        rounds_played = 0\n",
    "        max_rounds = 3\n",
    "        \n",
    "        while True:\n",
    "            self.reset_scores()\n",
    "            rounds_played = 0\n",
    "\n",
    "            while rounds_played < max_rounds:\n",
    "                self.play_round()\n",
    "                rounds_played += 1\n",
    "\n",
    "            print(\"Game over!\")\n",
    "            if self.player_score > self.computer_score:\n",
    "                print(f\"{self.player.name} is the ultimate winner!\")\n",
    "            elif self.player_score < self.computer_score:\n",
    "                print(\"Computer is the ultimate winner!\")\n",
    "            else:\n",
    "                print(\"It's an overall tie!\")\n",
    "\n",
    "            play_again = input(\"Do you want to play again? (yes/no): \").lower()\n",
    "            print()\n",
    "            print()\n",
    "            if play_again != \"yes\":\n",
    "                print(\"Thanks for playing!\")\n",
    "                break\n",
    "        \n",
    "# Test Case\n",
    "# Run the game manually\n",
    "game = Game()\n",
    "game.play_game()"
   ]
  },
  {
   "cell_type": "markdown",
   "id": "58f9aa5c",
   "metadata": {},
   "source": [
    "\n",
    "## Final Task: Add Replay Option\n",
    "\n",
    "**Instructions:**\n",
    "1. Modify `Game` class to ask if the user wants to play again.\n",
    "2. If yes, reset scores and start a new game.\n",
    "\n",
    "**Test Case:**\n",
    "- Run the game and test replay functionality.\n"
   ]
  },
  {
   "cell_type": "code",
   "execution_count": null,
   "id": "6e420bfc",
   "metadata": {},
   "outputs": [],
   "source": []
  }
 ],
 "metadata": {
  "kernelspec": {
   "display_name": "Python 3",
   "language": "python",
   "name": "python3"
  },
  "language_info": {
   "codemirror_mode": {
    "name": "ipython",
    "version": 3
   },
   "file_extension": ".py",
   "mimetype": "text/x-python",
   "name": "python",
   "nbconvert_exporter": "python",
   "pygments_lexer": "ipython3",
   "version": "3.12.4"
  }
 },
 "nbformat": 4,
 "nbformat_minor": 5
}
